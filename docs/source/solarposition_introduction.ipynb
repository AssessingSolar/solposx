{
 "cells": [
  {
   "cell_type": "markdown",
   "id": "953509cd-c757-4bd8-830c-72fbf47678c6",
   "metadata": {
    "editable": true,
    "slideshow": {
     "slide_type": ""
    },
    "tags": []
   },
   "source": [
    "# Solar position algorithms"
   ]
  },
  {
   "attachments": {},
   "cell_type": "markdown",
   "id": "b51df776-ec10-4309-8117-bb6c15b35c31",
   "metadata": {
    "editable": true,
    "slideshow": {
     "slide_type": ""
    },
    "tags": []
   },
   "source": [
    "The position of the sun in the sky can be described using two different angles:\n",
    "\n",
    "* the **solar elevation** (&gamma;<sub>S</sub>): angle between the sun and the horizontal plane\n",
    "* the **solar azimuth** (&psi;<sub>S</sub>): angle between the projection of the sun on the horizontal plane and the south direction (which is typically at 0°)\n",
    "\n",
    "In some cases, the solar elevation is described using its complementary angle, which is the zenith angle: &theta;<sub>Z</sub> = 90° - &gamma;<sub>S</sub>\n",
    "\n",
    "The value of the elevation and azimuth angle depends on location (latitude and longitude), date, and time of day.\n",
    "\n",
    "```{figure} /figures/solar_angles.jpg\n",
    "    :alt: solar_angles\n",
    "    :width: 500px\n",
    "    :align: center\n",
    "```\n",
    "\n",
    "<div style=\"text-align: center;\">\r\n",
    "  <small>Figure 1: Solar elevation and azimuth (source: Fundamentals of Solar Cells and Photovoltaic Systems Engineering).</small>\r\n",
    "</div>"
   ]
  },
  {
   "cell_type": "markdown",
   "id": "59a4b422-c707-435a-be86-23c417f24fd5",
   "metadata": {},
   "source": [
    "\n",
    "Solar position algorithms (SPAs) are mathematical models used to accurately calculate the position of the sun in the sky at any given time and location on Earth. These algorithms provide key solar angles such as solar zenith, solar elevation, and azimuth, which are crucial for applications in solar energy systems, climate modeling, architecture, and astronomy. The solar position calculations, using these algorithms, are based on predicting the Earth's irregular rotation around the Sun using historical observations. This has caused users to develop different algorithms with different sets of coefficients that are accurate for a specific number of years.\n",
    "\n",
    "In general, SPAs take as input:\n",
    "* Geographic coordinates (latitude and longitude)\n",
    "* Date and time\n",
    "\n",
    "And some of them also calculate atmospheric refraction corrections using:\n",
    "* Atmospheric conditions (temperature and pressure)\n",
    "* Altitude above sea level"
   ]
  }
 ],
 "metadata": {
  "kernelspec": {
   "display_name": "Python 3 (ipykernel)",
   "language": "python",
   "name": "python3"
  },
  "language_info": {
   "codemirror_mode": {
    "name": "ipython",
    "version": 3
   },
   "file_extension": ".py",
   "mimetype": "text/x-python",
   "name": "python",
   "nbconvert_exporter": "python",
   "pygments_lexer": "ipython3",
   "version": "3.11.9"
  }
 },
 "nbformat": 4,
 "nbformat_minor": 5
}
