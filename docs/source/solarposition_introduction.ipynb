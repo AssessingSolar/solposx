{
 "cells": [
  {
   "cell_type": "markdown",
   "id": "953509cd-c757-4bd8-830c-72fbf47678c6",
   "metadata": {
    "editable": true,
    "slideshow": {
     "slide_type": ""
    },
    "tags": []
   },
   "source": [
    "# Solar position"
   ]
  },
  {
   "cell_type": "code",
   "execution_count": null,
   "id": "1a445db5-afd9-4310-9099-281686654319",
   "metadata": {
    "editable": true,
    "slideshow": {
     "slide_type": ""
    },
    "tags": []
   },
   "outputs": [],
   "source": []
  }
 ],
 "metadata": {
  "kernelspec": {
   "display_name": "",
   "name": ""
  },
  "language_info": {
   "name": ""
  }
 },
 "nbformat": 4,
 "nbformat_minor": 5
}
